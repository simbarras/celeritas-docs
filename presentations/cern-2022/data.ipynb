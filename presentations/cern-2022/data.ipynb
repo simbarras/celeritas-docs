version https://git-lfs.github.com/spec/v1
oid sha256:6afeb4e7d799bd95f2542a616a7b6c1f9e9712911db37ab0a74cd252e23e3c0a
size 59613
