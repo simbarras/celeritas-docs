version https://git-lfs.github.com/spec/v1
oid sha256:5b337c44d114890856f43874de311535ccdf7df9710939fbf121bf2eaf1a4eb6
size 120682
