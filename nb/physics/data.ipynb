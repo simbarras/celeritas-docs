version https://git-lfs.github.com/spec/v1
oid sha256:af7504ac4552d5387511f1474191f2a1dee64be3b9d48a2ebd0ade111517f024
size 64367
