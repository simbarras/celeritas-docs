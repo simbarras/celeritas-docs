version https://git-lfs.github.com/spec/v1
oid sha256:a8680cc6135c5dceb44f03526f3c93f93ea74d85dc278805b4738d9644a6b7f1
size 813372
