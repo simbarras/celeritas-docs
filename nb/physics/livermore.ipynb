version https://git-lfs.github.com/spec/v1
oid sha256:36c0cf6999b63345d3c5f7998046130ac23ae2a19c41340f4aa509c656be3f03
size 2780
