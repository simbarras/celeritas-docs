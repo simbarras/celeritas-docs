version https://git-lfs.github.com/spec/v1
oid sha256:c816dac6d1a03295fa1078bc1f514abf3cec15e38513fdb8bf0d332de5382aa5
size 4525
