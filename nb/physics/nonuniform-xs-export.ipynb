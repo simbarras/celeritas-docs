version https://git-lfs.github.com/spec/v1
oid sha256:c3633c8f25a5c94ec2df4fadc9768e58eb8021f22cba751ec503dc019fdce43a
size 11752
