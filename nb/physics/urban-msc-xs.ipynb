version https://git-lfs.github.com/spec/v1
oid sha256:57dcd978d59e819ef2a57de9a6e37114fd6dd2792d9f3f56f65ce1cb3227f0df
size 103381
