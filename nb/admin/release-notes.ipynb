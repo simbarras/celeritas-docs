version https://git-lfs.github.com/spec/v1
oid sha256:ab0e18e1664ad1f6e750fd7d382f076f5cfe55ef70b02eee40eb200a297ec0bc
size 9381
