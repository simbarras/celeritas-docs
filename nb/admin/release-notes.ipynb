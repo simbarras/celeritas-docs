version https://git-lfs.github.com/spec/v1
oid sha256:3c3f4f532a17b6322a5f0fde3267a58237f3a1911152412e2d4befec5fab8934
size 13802
