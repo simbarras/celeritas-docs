version https://git-lfs.github.com/spec/v1
oid sha256:05fd1fa001d9197a399fa163720bb41f63bd8b60ea4585d695c735abd0632d08
size 7885
