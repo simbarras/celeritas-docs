version https://git-lfs.github.com/spec/v1
oid sha256:7b9eedbf70d4d0fa37755198d9653d716ccc4d435d6dcab1d7e67267a9ab16d5
size 23952
