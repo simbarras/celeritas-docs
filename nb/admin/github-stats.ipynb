{
 "cells": [
  {
   "cell_type": "code",
   "execution_count": 1,
   "id": "03360cdc-bc53-4654-b842-8f04d4272dc4",
   "metadata": {},
   "outputs": [],
   "source": [
    "from itertools import chain\n",
    "import pandas as pd\n",
    "import numpy as np\n",
    "import re\n",
    "from collections import defaultdict\n",
    "import subprocess\n",
    "from pathlib import Path"
   ]
  },
  {
   "cell_type": "code",
   "execution_count": 2,
   "id": "2a1f4c9f-9bfd-40f9-9e01-6070f8b80446",
   "metadata": {},
   "outputs": [],
   "source": [
    "from ghapi.all import GhApi, paged, gh2date\n",
    "from tqdm.notebook import tqdm\n",
    "\n",
    "with open('/Users/seth/.config/ghapi-token') as f:\n",
    "    token = f.read().strip()\n",
    "\n",
    "celer = GhApi(owner='celeritas-project', repo='celeritas', token=token)"
   ]
  },
  {
   "cell_type": "markdown",
   "id": "bc37d821-da65-4ee0-8d10-24862b30445c",
   "metadata": {},
   "source": [
    "## Star history"
   ]
  },
  {
   "cell_type": "code",
   "execution_count": 7,
   "id": "b4213809-b9ab-402f-9c16-780658744ec7",
   "metadata": {},
   "outputs": [],
   "source": [
    "def get_stars(repo):\n",
    "    star_props = chain.from_iterable(paged(\n",
    "        repo.activity.list_stargazers_for_repo,\n",
    "        headers=dict(accept='application/vnd.github.star+json')\n",
    "    ))\n",
    "    stardate = sorted([gh2date(p['starred_at']) for p in star_props])\n",
    "    stars = pd.Series(np.arange(len(stardate), dtype=int),\n",
    "                  index=pd.DatetimeIndex(stardate))\n",
    "    return stars"
   ]
  },
  {
   "cell_type": "code",
   "execution_count": 8,
   "id": "ce099272-b00e-4f41-8dc4-ed98d80cc926",
   "metadata": {},
   "outputs": [],
   "source": [
    "celer_stars = get_stars(celer)\n",
    "adept_stars = get_stars(GhApi(owner='apt-sim', repo='AdePT', token=token))"
   ]
  },
  {
   "cell_type": "code",
   "execution_count": 9,
   "id": "0b0e9ace-fa91-40f5-b320-95fcd8f4e078",
   "metadata": {},
   "outputs": [],
   "source": [
    "stars = pd.DataFrame({'celeritas': celer_stars, 'adept': adept_stars})"
   ]
  },
  {
   "cell_type": "code",
   "execution_count": 12,
   "id": "bf899b7d-0d7a-4db7-a79b-0f2b328340ee",
   "metadata": {},
   "outputs": [],
   "source": [
    "stars.fillna(method='pad', inplace=True)"
   ]
  },
  {
   "cell_type": "code",
   "execution_count": 15,
   "id": "99842cde-1918-4b16-8847-c5c74ead3de2",
   "metadata": {},
   "outputs": [
    {
     "data": {
      "image/png": "[encoded data removed]",
      "text/plain": [
       "<Figure size 640x480 with 1 Axes>"
      ]
     },
     "metadata": {},
     "output_type": "display_data"
    }
   ],
   "source": [
    "ax = stars.plot(ylabel='# stars')"
   ]
  },
  {
   "cell_type": "markdown",
   "id": "c4d77c01-d138-43c9-8831-d3449c08eaa3",
   "metadata": {
    "tags": []
   },
   "source": [
    "## Release note generation"
   ]
  },
  {
   "cell_type": "code",
   "execution_count": 55,
   "id": "875a126c-3ca5-46da-8f16-5b7be89d416a",
   "metadata": {},
   "outputs": [],
   "source": [
    "RELEASE = '0.2.0'\n",
    "PREV_RELEASE = '0.1.4'\n",
    "TARGET_BRANCH = 'upstream/master'"
   ]
  },
  {
   "cell_type": "markdown",
   "id": "70e50674-e915-4d24-a0d0-19e592218444",
   "metadata": {},
   "source": [
    "Option 1 (less accurate): use official release notes"
   ]
  },
  {
   "cell_type": "code",
   "execution_count": 3,
   "id": "c664ae1a-7b16-4d98-a461-3300e8329dcd",
   "metadata": {},
   "outputs": [],
   "source": [
    "RE_GET_PULL = re.compile(r'by @[\\w]+ in https://.*/pull/(\\d+)$')\n",
    "\n",
    "def parse_release_pulls(text):\n",
    "    result = []\n",
    "    for line in text.splitlines():\n",
    "        match = RE_GET_PULL.search(line)\n",
    "        if match:\n",
    "            result.append(int(match.group(1)))\n",
    "    return result\n",
    "\n",
    "notes = celer.repos.generate_release_notes(\n",
    "    tag_name=\"v\" + RELEASE, previous_tag_name=\"v\" + PREV_RELEASE)['body']\n",
    "\n",
    "pull_ids = parse_release_pulls(notes)"
   ]
  },
  {
   "cell_type": "markdown",
   "id": "0d2b3e3f-2d0a-4401-98a8-52c1eb65e5a1",
   "metadata": {},
   "source": [
    "Option 2: parse subject lines"
   ]
  },
  {
   "cell_type": "code",
   "execution_count": 36,
   "id": "7f713a40-a28f-4672-935c-8384c03b58e1",
   "metadata": {},
   "outputs": [],
   "source": [
    "RE_SUBJECT_PR = re.compile(r'\\(#([\\d]+)\\)$')\n",
    "GIT = 'git'\n",
    "CELERITAS_REPO = Path(\"/Users/seth/.local/src/celeritas\")\n",
    "\n",
    "def git(*args, split=b'\\n'):\n",
    "    result = subprocess.check_output(('git',) + args,\n",
    "                                     env={'GIT_DIR': str(CELERITAS_REPO / \".git\")})\n",
    "    return [s.decode() for s in result.split(split)]\n",
    "\n",
    "def parse_log_pulls(logs):\n",
    "    for line in logs:\n",
    "        match = RE_SUBJECT_PR.search(line)\n",
    "        if match:\n",
    "            yield int(match.group(1))\n",
    "        elif line:\n",
    "            print(\"No PR ID on commit:\", line)\n",
    "            \n",
    "def git_log_subjects(start, stop):\n",
    "    return git('log', '--format=%s', start + '..' + stop)[:-1]"
   ]
  },
  {
   "cell_type": "code",
   "execution_count": 57,
   "id": "f9e74722-ece6-4338-bbb2-dedd33423bb5",
   "metadata": {},
   "outputs": [
    {
     "name": "stdout",
     "output_type": "stream",
     "text": [
      "No PR ID on commit: Add release notes\n",
      "No PR ID on commit: Add release notes and update documentation\n",
      "No PR ID on commit: Escape rather than segfault on geometry error in release mode\n",
      "No PR ID on commit: Fix ignoring of 'rayleigh' bool flag\n",
      "No PR ID on commit: Add release docs for v0.1.2\n"
     ]
    }
   ],
   "source": [
    "merge_base = git('merge-base', TARGET_BRANCH, 'v' + PREV_RELEASE)[0]\n",
    "exclude_ids = set(parse_log_pulls(git_log_subjects(merge_base, \"v\" + PREV_RELEASE)))"
   ]
  },
  {
   "cell_type": "code",
   "execution_count": 58,
   "id": "e38e6a03-0029-44e6-860f-e627552d0ae2",
   "metadata": {},
   "outputs": [],
   "source": [
    "exclude_ids |= {516} # Add any PRs with missing IDs above here\n",
    "pull_ids = [p for p in parse_log_pulls(git_log_subjects(merge_base, TARGET_BRANCH))\n",
    "            if p not in exclude_ids][::-1]"
   ]
  },
  {
   "cell_type": "code",
   "execution_count": 59,
   "id": "54e67123-837a-47aa-9b69-214d7ab070b7",
   "metadata": {},
   "outputs": [
    {
     "data": {
      "application/vnd.jupyter.widget-view+json": {
       "model_id": "a389547f47d84a298dd0605475cc5a63",
       "version_major": 2,
       "version_minor": 0
      },
      "text/plain": [
       "  0%|          | 0/74 [00:00<?, ?it/s]"
      ]
     },
     "metadata": {},
     "output_type": "display_data"
    },
    {
     "name": "stdout",
     "output_type": "stream",
     "text": [
      "Missing label: 551 Add CMakePresets and env script for perlmutter {'infrastructure'}\n",
      "Missing label: 566 CI: use Geant4 11, C++17, VecGeom 1.2, CUDA 11.8, GCC 11 {'infrastructure'}\n",
      "Missing label: 573 Restrict where CUDA CI builds can run {'infrastructure'}\n",
      "Missing label: 569 CI: add no-debug HIP (ROCM 5.4) build {'infrastructure'}\n",
      "Missing label: 584 Add clang address sanitizer to CI {'infrastructure'}\n"
     ]
    }
   ],
   "source": [
    "categories = ['enhancement', 'bug', 'documentation', 'housekeeping']\n",
    "category_titles = [\"New features\", \"Bug fixes\", \"Documentation improvements\", \"Minor internal changes\"]\n",
    "\n",
    "sorted_pulls = defaultdict(list)\n",
    "for pr_id in tqdm(pull_ids):\n",
    "    p = celer.pulls.get(pr_id)\n",
    "    reviews = celer.pulls.list_reviews(pr_id)\n",
    "    labels = {l.name for l in p['labels']}\n",
    "    summary = {\n",
    "        \"id\": pr_id,\n",
    "        \"title\": p['title'],\n",
    "        \"labels\": labels,\n",
    "        \"author\": p['user']['login'],\n",
    "        \"reviewers\": {r['user']['login'] for r in reviews if r['state'] == 'APPROVED'},\n",
    "        \"merged_at\": gh2date(p.merged_at),\n",
    "    }\n",
    "    for lab in categories:\n",
    "        if lab in labels:\n",
    "            sorted_pulls[lab].append(summary)\n",
    "            break\n",
    "    else:\n",
    "        print(\"Missing label:\", pr_id, p['title'], labels)\n",
    "        sorted_pulls['missing'].append(summary)"
   ]
  },
  {
   "cell_type": "code",
   "execution_count": 60,
   "id": "30d0fd33-357a-440a-8e42-5e3550c6f615",
   "metadata": {},
   "outputs": [],
   "source": [
    "notes = [\n",
    "    f\"\"\"\n",
    "Version {RELEASE}\n",
    "=============\n",
    "\n",
    "Version {RELEASE} enables new coupled integration between Celeritas and Geant4\n",
    "using the Acceleritas interface library. It features new ROOT output capabilities\n",
    "including MC truth output, a set of high-level API classes for integrating\n",
    "into existing Geant4 toolkit-based apps, and better support for multithreaded use.\n",
    "\"\"\"\n",
    "]\n",
    "\n",
    "for (lab, title) in zip(categories, category_titles):\n",
    "    notes.extend([title, \"-\" * len(title), \"\"])\n",
    "    reviews = defaultdict(int)\n",
    "    for pr in sorted_pulls[lab]:\n",
    "        notes.append(\"* {title} *(@{author}, #{id})*\".format(**pr))\n",
    "        for r in pr['reviewers']:\n",
    "            reviews[r] += 1\n",
    "    \n",
    "    notes.append(\"\")\n",
    "    notes.append(\"Reviewers: \" + \", \".join(f\"@{k} *({reviews[k]})*\"\n",
    "                                           for k in sorted(reviews, key=reviews.__getitem__, reverse=True)))\n",
    "    notes.append(\"\")\n",
    "    \n",
    "notes.append(f\"\"\"\\\n",
    "**Full Changelog**: https://github.com/celeritas-project/celeritas/compare/v{PREV_RELEASE}...v{RELEASE}\n",
    "\"\"\")"
   ]
  },
  {
   "cell_type": "code",
   "execution_count": 61,
   "id": "c5c3681f-451d-439f-b011-cb3363053b0c",
   "metadata": {},
   "outputs": [
    {
     "name": "stdout",
     "output_type": "stream",
     "text": [
      "\n",
      "Version 0.2.0\n",
      "=============\n",
      "\n",
      "Version 0.2.0 enables new coupled integration between Celeritas and Geant4\n",
      "using the Acceleritas interface library. It features new ROOT output capabilities\n",
      "including MC truth output, a set of high-level API classes for integrating\n",
      "into existing Geant4 toolkit-based apps, and better support for multithreaded use.\n",
      "\n",
      "New features\n",
      "------------\n",
      "\n",
      "* Export SB, Livermore PE, and atomic relaxation data to ROOT file *(@stognini, #481)*\n",
      "* Refactor ORANGE input to be more extensible *(@sethrj, #510)*\n",
      "* Make primary generator more general *(@amandalund, #514)*\n",
      "* Support arbitrary user/internal kernels as part of stepping loop *(@sethrj, #525)*\n",
      "* Improve CMake version/host metadata *(@sethrj, #529)*\n",
      "* Baby steps toward Geant4 integration *(@sethrj, #531)*\n",
      "* Add \"background\" volume support to ORANGE *(@sethrj, #530)*\n",
      "* Build Livermore/SB data from ImportedData *(@sethrj, #535)*\n",
      "* Load and build multiple universes in ORANGE *(@elliottbiondo, #534)*\n",
      "* Support adding primaries at any step in the transport loop *(@amandalund, #542)*\n",
      "* Add basic step collector *(@sethrj, #544)*\n",
      "* Add finer granularity to step collector *(@sethrj, #549)*\n",
      "* Add a Celeritas handler for ROOT Error (messages) *(@pcanal, #552)*\n",
      "* Enable resizing of CUDA malloc heap to fix VecGeom failures *(@mrguilima, #554)*\n",
      "* Add detector mapping and filtering to hit collector *(@sethrj, #555)*\n",
      "* Add helper class for extracting detector hits to CPU *(@sethrj, #559)*\n",
      "* Add initialization of particles in multi-universe ORANGE geometries *(@elliottbiondo, #546)*\n",
      "* Add upper_bound functions to corecel/math *(@elliottbiondo, #565)*\n",
      "* Add ROOT MC truth output *(@stognini, #564)*\n",
      "* Handle exceptions from inside OpenMP parallel pragmas *(@sethrj, #563)*\n",
      "* Add skeleton classes for Celeritas/Geant4 integration *(@sethrj, #567)*\n",
      "* Add thread-local transporter and Celeritas shared params setup to Acceleritas *(@amandalund, #575)*\n",
      "* Set initial values of SetupOptions parameters from GlobalSetup *(@mrguilima, #576)*\n",
      "* Add Geant4 Exception converter *(@sethrj, #580)*\n",
      "* Convert Thrust exceptions to Geant4 *(@sethrj, #582)*\n",
      "* Add diagnostic output to geant demo *(@sethrj, #583)*\n",
      "* Auto-export GDML from Geant4 geometry *(@sethrj, #585)*\n",
      "* Support user-defined along-step kernels in accel+demo *(@sethrj, #586)*\n",
      "* Add hit processor to convert Celeritas detector hits to Geant4 *(@sethrj, #581)*\n",
      "* Add HepMC3 reader to `demo-geant-integration` *(@stognini, #578)*\n",
      "* Add track parent id information to step data *(@stognini, #590)*\n",
      "* Enable all physics in geant demo for true offloading *(@sethrj, #591)*\n",
      "* Add action labels to the ROOT MC truth output file *(@stognini, #601)*\n",
      "\n",
      "Reviewers: @sethrj *(13)*, @amandalund *(10)*, @stognini *(2)*, @paulromano *(2)*, @whokion *(2)*, @tmdelellis *(1)*, @pcanal *(1)*, @elliottbiondo *(1)*, @mrguilima *(1)*\n",
      "\n",
      "Bug fixes\n",
      "---------\n",
      "\n",
      "* Fix infrastructure and build issues for summit *(@sethrj, #509)*\n",
      "* Fix indexing of imported micro xs *(@amandalund, #512)*\n",
      "* Don't slow particles to zero when hitting boundary *(@sethrj, #524)*\n",
      "* Fix JSON build issues *(@sethrj, #536)*\n",
      "* Fix library location and configure issues from #526 *(@sethrj, #537)*\n",
      "* Fix thread safety issues in Celeritas *(@sethrj, #532)*\n",
      "* Do not include ROOT's CMake \"use\" file to avoid potential nlohmann_json conflicts *(@drbenmorgan, #556)*\n",
      "* Remove calls to host code from host-device Collection *(@sethrj, #547)*\n",
      "* Fix celeritas-gen when run from root directory *(@sethrj, #562)*\n",
      "* Fix and work around some issues on HIP/Crusher *(@sethrj, #558)*\n",
      "* Fix build documentation and issues with newer toolchains *(@sethrj, #571)*\n",
      "* Minor fixes for older Geant4/VecGeom releases *(@sethrj, #587)*\n",
      "* Use Geant4 environment variables to choose run manager and threads *(@sethrj, #589)*\n",
      "* Add backward compatibility for primary generators *(@sethrj, #599)*\n",
      "\n",
      "Reviewers: @amandalund *(6)*, @pcanal *(4)*, @sethrj *(2)*, @whokion *(2)*, @elliottbiondo *(1)*, @tmdelellis *(1)*, @paulromano *(1)*\n",
      "\n",
      "Documentation improvements\n",
      "--------------------------\n",
      "\n",
      "* Add release procedure, roles, and 0.1.x release notes *(@sethrj, #519)*\n",
      "* Add DOE DOI and improve PR process documentation *(@sethrj, #533)*\n",
      "* Add include-what-you-use script and pragmas *(@sethrj, #540)*\n",
      "* Add a simple SensitiveHit for demo-geant4-integration *(@whokion, #579)*\n",
      "* Add Acceleritas documentation *(@sethrj, #595)*\n",
      "* Update copyrights for 2023 *(@sethrj, #598)*\n",
      "\n",
      "Reviewers: @paulromano *(2)*, @amandalund *(2)*, @tmdelellis *(1)*, @pcanal *(1)*, @sethrj *(1)*, @whokion *(1)*\n",
      "\n",
      "Minor internal changes\n",
      "----------------------\n",
      "\n",
      "* Add granularity to Geant setup *(@sethrj, #485)*\n",
      "* Format code base (clang-format version 14.0.6) *(@sethrj, #506)*\n",
      "* Use `test` sub-namespace instead of `celeritas_test` *(@sethrj, #503)*\n",
      "* Refactor ORANGE data and simple tracker to support nested universes *(@sethrj, #520)*\n",
      "* Define gauss as internal field strength and use tesla for input *(@sethrj, #522)*\n",
      "* Break library into multiple parts and mirror install tree *(@sethrj, #526)*\n",
      "* Split orange/Types and add Orange prefix to Data *(@sethrj, #541)*\n",
      "* Update CUDA RDC CMake code *(@pcanal, #545)*\n",
      "* Fix git-clang-format hook and code documentation *(@sethrj, #568)*\n",
      "* Change Transport/Stepper interfaces to take span of `Primary` instead of vector *(@paulromano, #572)*\n",
      "* Refactor geant demo app and `accel` code *(@sethrj, #577)*\n",
      "* Move HepMC3 reader to accel and make a little more reusable *(@sethrj, #593)*\n",
      "* Rename `CELER_TRY_ELSE` to `CELER_TRY_HANDLE` *(@sethrj, #594)*\n",
      "* Update IWYU and apply to codebase *(@sethrj, #596)*\n",
      "* Update clang-format to avoid alignment and use \"east const\" *(@sethrj, #574)*\n",
      "* Enable debug assertions for HIP *(@sethrj, #597)*\n",
      "\n",
      "Reviewers: @amandalund *(8)*, @stognini *(2)*, @sethrj *(2)*, @elliottbiondo *(1)*, @paulromano *(1)*\n",
      "\n",
      "**Full Changelog**: https://github.com/celeritas-project/celeritas/compare/v0.1.4...v0.2.0\n",
      "\n"
     ]
    }
   ],
   "source": [
    "print(\"\\n\".join(notes))"
   ]
  },
  {
   "cell_type": "markdown",
   "id": "7c618827-fdf2-4834-93bf-1d5f53a7888b",
   "metadata": {},
   "source": [
    "## Add missing PR labels in bulk"
   ]
  },
  {
   "cell_type": "code",
   "execution_count": 19,
   "id": "b5ec4c6e-16b2-4cfd-bade-73721add01cf",
   "metadata": {},
   "outputs": [],
   "source": [
    "fixup = {\n",
    "#    'bug': \"516 527 558\",\n",
    "#    'enhancement': \"510 552 575 576 580 585\",\n",
    "#    'housekeeping': \"520 \",\n",
    "#    'infrastructure': \"551 573\",\n",
    "}\n",
    "for (label, pullstr) in fixup.items():\n",
    "    for pr_id in pullstr.split():\n",
    "        celer.issues.add_labels(int(pr_id), [label])"
   ]
  }
 ],
 "metadata": {
  "kernelspec": {
   "display_name": "Python 3 (ipykernel)",
   "language": "python",
   "name": "python3"
  },
  "language_info": {
   "codemirror_mode": {
    "name": "ipython",
    "version": 3
   },
   "file_extension": ".py",
   "mimetype": "text/x-python",
   "name": "python",
   "nbconvert_exporter": "python",
   "pygments_lexer": "ipython3",
   "version": "3.9.15"
  }
 },
 "nbformat": 4,
 "nbformat_minor": 5
}
