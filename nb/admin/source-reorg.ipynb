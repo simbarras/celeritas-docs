version https://git-lfs.github.com/spec/v1
oid sha256:784dadcd52b26e9af8df7959b421dfeda4874b2d1d21990502ef46ce9ca1d528
size 117900
