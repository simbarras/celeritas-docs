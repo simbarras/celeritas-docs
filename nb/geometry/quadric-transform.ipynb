version https://git-lfs.github.com/spec/v1
oid sha256:7841c99b5d1f4033eacf8663f51796f30c6a17f07e679055306a3be98a47fec2
size 13351
