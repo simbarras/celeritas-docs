version https://git-lfs.github.com/spec/v1
oid sha256:7cad73c8b48d620e22932827dfb4117de407dea7d2bfc5fc1af4208d222c4fff
size 75167
