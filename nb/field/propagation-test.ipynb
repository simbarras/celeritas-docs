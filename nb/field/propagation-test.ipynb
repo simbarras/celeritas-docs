version https://git-lfs.github.com/spec/v1
oid sha256:fca73c51dacf441cf17278e1f9169eea8799489a607c4d04ed58da70bb465190
size 208872
