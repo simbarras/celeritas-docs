version https://git-lfs.github.com/spec/v1
oid sha256:8d1c9e31c1758f82029ee8b4f4d71437fca4d05a27397d1da13b134b16fb9746
size 709364
