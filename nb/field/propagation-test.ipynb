version https://git-lfs.github.com/spec/v1
oid sha256:46469710bf9d638b520b28e80f1b1eb3549b9a47a0e4662d0cf0608e8eca90a2
size 208690
