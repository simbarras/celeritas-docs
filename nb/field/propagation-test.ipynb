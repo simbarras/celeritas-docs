version https://git-lfs.github.com/spec/v1
oid sha256:3279d42ff7abbe70254701ebce836ffd272cd7343566f62260b231224809fd3d
size 554040
