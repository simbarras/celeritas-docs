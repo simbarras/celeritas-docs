version https://git-lfs.github.com/spec/v1
oid sha256:26a3b0645aecbd72e0243827497f304c18f91de5587e5a346f3563ef4ec086f5
size 208872
