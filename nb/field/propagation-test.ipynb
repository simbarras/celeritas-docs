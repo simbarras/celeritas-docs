version https://git-lfs.github.com/spec/v1
oid sha256:1ab31458210bfc06c8ab79c535a41e1cc2ce31ea27c7b9f25a85afb7c48cc910
size 258624
