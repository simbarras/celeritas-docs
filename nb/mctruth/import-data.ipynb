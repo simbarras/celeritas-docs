version https://git-lfs.github.com/spec/v1
oid sha256:cbe141bb22349f25fc919e445f1da278c156a7960c6fb2851f96f8bd5f01a5cb
size 13745
